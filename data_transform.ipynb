{
 "cells": [
  {
   "cell_type": "code",
   "execution_count": 1,
   "metadata": {},
   "outputs": [],
   "source": [
    "#fas-정재환\n",
    "import pandas as pd\n",
    "import matplotlib as mpl\n",
    "import matplotlib.pyplot as plt\n",
    "from matplotlib import font_manager, rc\n",
    "import numpy as np\n",
    "import csv\n",
    "import json\n",
    "import seaborn as sns\n",
    "%matplotlib inline "
   ]
  },
  {
   "cell_type": "code",
   "execution_count": 2,
   "metadata": {},
   "outputs": [],
   "source": [
    "from sklearn.datasets import load_breast_cancer\n",
    "from sklearn.model_selection import train_test_split"
   ]
  },
  {
   "cell_type": "code",
   "execution_count": 3,
   "metadata": {},
   "outputs": [
    {
     "data": {
      "text/html": [
       "<div>\n",
       "<style scoped>\n",
       "    .dataframe tbody tr th:only-of-type {\n",
       "        vertical-align: middle;\n",
       "    }\n",
       "\n",
       "    .dataframe tbody tr th {\n",
       "        vertical-align: top;\n",
       "    }\n",
       "\n",
       "    .dataframe thead th {\n",
       "        text-align: right;\n",
       "    }\n",
       "</style>\n",
       "<table border=\"1\" class=\"dataframe\">\n",
       "  <thead>\n",
       "    <tr style=\"text-align: right;\">\n",
       "      <th></th>\n",
       "      <th>Unnamed: 0</th>\n",
       "      <th>번호</th>\n",
       "      <th>성별</th>\n",
       "      <th>연령</th>\n",
       "      <th>신장</th>\n",
       "      <th>체중</th>\n",
       "      <th>허리둘레</th>\n",
       "      <th>수축기혈압</th>\n",
       "      <th>이완기혈압</th>\n",
       "      <th>식전혈당</th>\n",
       "      <th>총콜레스테롤</th>\n",
       "      <th>흡연상태</th>\n",
       "      <th>음주여부</th>\n",
       "    </tr>\n",
       "  </thead>\n",
       "  <tbody>\n",
       "    <tr>\n",
       "      <th>0</th>\n",
       "      <td>0</td>\n",
       "      <td>1</td>\n",
       "      <td>1</td>\n",
       "      <td>40</td>\n",
       "      <td>170</td>\n",
       "      <td>75</td>\n",
       "      <td>90.0</td>\n",
       "      <td>120.0</td>\n",
       "      <td>80.0</td>\n",
       "      <td>99.0</td>\n",
       "      <td>193.0</td>\n",
       "      <td>1.0</td>\n",
       "      <td>1.0</td>\n",
       "    </tr>\n",
       "    <tr>\n",
       "      <th>1</th>\n",
       "      <td>1</td>\n",
       "      <td>2</td>\n",
       "      <td>1</td>\n",
       "      <td>35</td>\n",
       "      <td>180</td>\n",
       "      <td>80</td>\n",
       "      <td>89.0</td>\n",
       "      <td>130.0</td>\n",
       "      <td>82.0</td>\n",
       "      <td>106.0</td>\n",
       "      <td>228.0</td>\n",
       "      <td>3.0</td>\n",
       "      <td>0.0</td>\n",
       "    </tr>\n",
       "    <tr>\n",
       "      <th>2</th>\n",
       "      <td>2</td>\n",
       "      <td>3</td>\n",
       "      <td>1</td>\n",
       "      <td>45</td>\n",
       "      <td>165</td>\n",
       "      <td>75</td>\n",
       "      <td>91.0</td>\n",
       "      <td>120.0</td>\n",
       "      <td>70.0</td>\n",
       "      <td>98.0</td>\n",
       "      <td>136.0</td>\n",
       "      <td>1.0</td>\n",
       "      <td>0.0</td>\n",
       "    </tr>\n",
       "    <tr>\n",
       "      <th>3</th>\n",
       "      <td>3</td>\n",
       "      <td>4</td>\n",
       "      <td>1</td>\n",
       "      <td>55</td>\n",
       "      <td>175</td>\n",
       "      <td>80</td>\n",
       "      <td>91.0</td>\n",
       "      <td>145.0</td>\n",
       "      <td>87.0</td>\n",
       "      <td>95.0</td>\n",
       "      <td>201.0</td>\n",
       "      <td>1.0</td>\n",
       "      <td>0.0</td>\n",
       "    </tr>\n",
       "    <tr>\n",
       "      <th>4</th>\n",
       "      <td>4</td>\n",
       "      <td>5</td>\n",
       "      <td>1</td>\n",
       "      <td>55</td>\n",
       "      <td>165</td>\n",
       "      <td>60</td>\n",
       "      <td>80.0</td>\n",
       "      <td>138.0</td>\n",
       "      <td>82.0</td>\n",
       "      <td>101.0</td>\n",
       "      <td>199.0</td>\n",
       "      <td>1.0</td>\n",
       "      <td>0.0</td>\n",
       "    </tr>\n",
       "    <tr>\n",
       "      <th>...</th>\n",
       "      <td>...</td>\n",
       "      <td>...</td>\n",
       "      <td>...</td>\n",
       "      <td>...</td>\n",
       "      <td>...</td>\n",
       "      <td>...</td>\n",
       "      <td>...</td>\n",
       "      <td>...</td>\n",
       "      <td>...</td>\n",
       "      <td>...</td>\n",
       "      <td>...</td>\n",
       "      <td>...</td>\n",
       "      <td>...</td>\n",
       "    </tr>\n",
       "    <tr>\n",
       "      <th>49995</th>\n",
       "      <td>49995</td>\n",
       "      <td>50055</td>\n",
       "      <td>2</td>\n",
       "      <td>50</td>\n",
       "      <td>160</td>\n",
       "      <td>80</td>\n",
       "      <td>93.0</td>\n",
       "      <td>142.0</td>\n",
       "      <td>94.0</td>\n",
       "      <td>99.0</td>\n",
       "      <td>279.0</td>\n",
       "      <td>1.0</td>\n",
       "      <td>0.0</td>\n",
       "    </tr>\n",
       "    <tr>\n",
       "      <th>49996</th>\n",
       "      <td>49996</td>\n",
       "      <td>50056</td>\n",
       "      <td>1</td>\n",
       "      <td>50</td>\n",
       "      <td>165</td>\n",
       "      <td>60</td>\n",
       "      <td>84.5</td>\n",
       "      <td>130.0</td>\n",
       "      <td>90.0</td>\n",
       "      <td>98.0</td>\n",
       "      <td>226.0</td>\n",
       "      <td>2.0</td>\n",
       "      <td>1.0</td>\n",
       "    </tr>\n",
       "    <tr>\n",
       "      <th>49997</th>\n",
       "      <td>49997</td>\n",
       "      <td>50057</td>\n",
       "      <td>1</td>\n",
       "      <td>30</td>\n",
       "      <td>175</td>\n",
       "      <td>65</td>\n",
       "      <td>74.0</td>\n",
       "      <td>128.0</td>\n",
       "      <td>81.0</td>\n",
       "      <td>97.0</td>\n",
       "      <td>204.0</td>\n",
       "      <td>3.0</td>\n",
       "      <td>1.0</td>\n",
       "    </tr>\n",
       "    <tr>\n",
       "      <th>49998</th>\n",
       "      <td>49998</td>\n",
       "      <td>50058</td>\n",
       "      <td>1</td>\n",
       "      <td>30</td>\n",
       "      <td>165</td>\n",
       "      <td>55</td>\n",
       "      <td>70.0</td>\n",
       "      <td>108.0</td>\n",
       "      <td>69.0</td>\n",
       "      <td>81.0</td>\n",
       "      <td>173.0</td>\n",
       "      <td>1.0</td>\n",
       "      <td>1.0</td>\n",
       "    </tr>\n",
       "    <tr>\n",
       "      <th>49999</th>\n",
       "      <td>49999</td>\n",
       "      <td>50059</td>\n",
       "      <td>1</td>\n",
       "      <td>40</td>\n",
       "      <td>170</td>\n",
       "      <td>100</td>\n",
       "      <td>98.2</td>\n",
       "      <td>138.0</td>\n",
       "      <td>88.0</td>\n",
       "      <td>99.0</td>\n",
       "      <td>197.0</td>\n",
       "      <td>1.0</td>\n",
       "      <td>0.0</td>\n",
       "    </tr>\n",
       "  </tbody>\n",
       "</table>\n",
       "<p>50000 rows × 13 columns</p>\n",
       "</div>"
      ],
      "text/plain": [
       "       Unnamed: 0     번호  성별  연령   신장   체중  허리둘레  수축기혈압  이완기혈압   식전혈당  총콜레스테롤  \\\n",
       "0               0      1   1  40  170   75  90.0  120.0   80.0   99.0   193.0   \n",
       "1               1      2   1  35  180   80  89.0  130.0   82.0  106.0   228.0   \n",
       "2               2      3   1  45  165   75  91.0  120.0   70.0   98.0   136.0   \n",
       "3               3      4   1  55  175   80  91.0  145.0   87.0   95.0   201.0   \n",
       "4               4      5   1  55  165   60  80.0  138.0   82.0  101.0   199.0   \n",
       "...           ...    ...  ..  ..  ...  ...   ...    ...    ...    ...     ...   \n",
       "49995       49995  50055   2  50  160   80  93.0  142.0   94.0   99.0   279.0   \n",
       "49996       49996  50056   1  50  165   60  84.5  130.0   90.0   98.0   226.0   \n",
       "49997       49997  50057   1  30  175   65  74.0  128.0   81.0   97.0   204.0   \n",
       "49998       49998  50058   1  30  165   55  70.0  108.0   69.0   81.0   173.0   \n",
       "49999       49999  50059   1  40  170  100  98.2  138.0   88.0   99.0   197.0   \n",
       "\n",
       "       흡연상태  음주여부  \n",
       "0       1.0   1.0  \n",
       "1       3.0   0.0  \n",
       "2       1.0   0.0  \n",
       "3       1.0   0.0  \n",
       "4       1.0   0.0  \n",
       "...     ...   ...  \n",
       "49995   1.0   0.0  \n",
       "49996   2.0   1.0  \n",
       "49997   3.0   1.0  \n",
       "49998   1.0   1.0  \n",
       "49999   1.0   0.0  \n",
       "\n",
       "[50000 rows x 13 columns]"
      ]
     },
     "execution_count": 3,
     "metadata": {},
     "output_type": "execute_result"
    }
   ],
   "source": [
    "df = pd.read_csv(\"NHIS_OPEN_GJ_2017_3.csv\", encoding='cp949', nrows=50000)\n",
    "df"
   ]
  },
  {
   "cell_type": "code",
   "execution_count": 4,
   "metadata": {},
   "outputs": [],
   "source": [
    "X = df[['체중', '신장', '허리둘레']]\n",
    "Y = df[['성별']]\n",
    "# 훈련 세트, 테스트 세트 준비\n",
    "X_train, X_test, Y_train, Y_test = train_test_split(X, Y, test_size=0.33, \n",
    "                                                    random_state=15)"
   ]
  },
  {
   "cell_type": "code",
   "execution_count": 5,
   "metadata": {},
   "outputs": [
    {
     "name": "stdout",
     "output_type": "stream",
     "text": [
      "(33500, 3)\n",
      "(16500, 3)\n"
     ]
    }
   ],
   "source": [
    "print(X_train.shape)\n",
    "print(X_test.shape)"
   ]
  },
  {
   "cell_type": "code",
   "execution_count": 6,
   "metadata": {},
   "outputs": [],
   "source": [
    "from sklearn.preprocessing import MinMaxScaler\n",
    "# 최솟값, 최댓값 분석기\n",
    "scaler = MinMaxScaler()"
   ]
  },
  {
   "cell_type": "code",
   "execution_count": 7,
   "metadata": {},
   "outputs": [
    {
     "data": {
      "text/plain": [
       "MinMaxScaler()"
      ]
     },
     "execution_count": 7,
     "metadata": {},
     "output_type": "execute_result"
    }
   ],
   "source": [
    "# 스케일 조정\n",
    "scaler.fit(X_train)"
   ]
  },
  {
   "cell_type": "code",
   "execution_count": 8,
   "metadata": {},
   "outputs": [
    {
     "name": "stdout",
     "output_type": "stream",
     "text": [
      "변환된 후 크기: (33500, 3)\n",
      "스케일 조정 전 특성별 최솟값:\n",
      " 체중       30.0\n",
      "신장      130.0\n",
      "허리둘레     49.0\n",
      "dtype: float64\n",
      "스케일 조정 전 특성별 최댓값:\n",
      " 체중      140.0\n",
      "신장      190.0\n",
      "허리둘레    999.0\n",
      "dtype: float64\n",
      "스케일 조정 후 특성별 최솟값:\n",
      " [0. 0. 0.]\n",
      "스케일 조정 후 특성별 최댓값:\n",
      " [1. 1. 1.]\n"
     ]
    }
   ],
   "source": [
    "# 훈련 데이터 변환\n",
    "X_train_scaled = scaler.transform(X_train)\n",
    "print(\"변환된 후 크기: {}\".format(X_train_scaled.shape))\n",
    "print(\"스케일 조정 전 특성별 최솟값:\\n {}\".format(X_train.min(axis=0)))\n",
    "print(\"스케일 조정 전 특성별 최댓값:\\n {}\".format(X_train.max(axis=0)))\n",
    "print(\"스케일 조정 후 특성별 최솟값:\\n {}\".format(X_train_scaled.min(axis=0)))\n",
    "print(\"스케일 조정 후 특성별 최댓값:\\n {}\".format(X_train_scaled.max(axis=0)))"
   ]
  },
  {
   "cell_type": "code",
   "execution_count": 9,
   "metadata": {},
   "outputs": [
    {
     "name": "stdout",
     "output_type": "stream",
     "text": [
      "스케일 조정 후 특성별 최솟값:\n",
      " [ 0.04545455  0.08333333 -0.01473684]\n",
      "스케일 조정 후 특성별 최댓값:\n",
      " [0.86363636 1.         0.08105263]\n"
     ]
    }
   ],
   "source": [
    "# 테스트 데이터 변환\n",
    "X_test_scaled = scaler.transform(X_test)\n",
    "print(\"스케일 조정 후 특성별 최솟값:\\n {}\".format(X_test_scaled.min(axis=0)))\n",
    "print(\"스케일 조정 후 특성별 최댓값:\\n {}\".format(X_test_scaled.max(axis=0)))"
   ]
  },
  {
   "cell_type": "code",
   "execution_count": 10,
   "metadata": {},
   "outputs": [],
   "source": [
    "# 테스트 데이터의 스케일을 조정한 결과 일부 특성은 0~1범위를 벗어났다\n",
    "# 왜냐하면 transform메소드는 테스트 세트의 최솟값을 사용하지 않고 \n",
    "# 훈련 세트의 최솟값을 빼고 훈련 세트의 범위로 나누기 때문이다"
   ]
  },
  {
   "cell_type": "code",
   "execution_count": 11,
   "metadata": {},
   "outputs": [],
   "source": [
    "# StandardScaler를 사용해 fit과 transform을 동시에 사용\n",
    "#위의 방법보다 더 좋은 습관\n",
    "from sklearn.preprocessing import StandardScaler\n",
    "\n",
    "X = df[['체중', '신장', '허리둘레']]\n",
    "Y = df[['성별']]\n",
    "X_train, X_test, Y_train, Y_test = train_test_split(X, Y, test_size=0.33, \n",
    "                                                    random_state=15)\n",
    "\n",
    "scaler = StandardScaler()\n",
    "X_train_scaled = scaler.fit_transform(X_train)"
   ]
  },
  {
   "cell_type": "code",
   "execution_count": 12,
   "metadata": {},
   "outputs": [
    {
     "name": "stdout",
     "output_type": "stream",
     "text": [
      "변환된 후 크기: (33500, 3)\n",
      "스케일 조정 전 특성별 최솟값:\n",
      " 체중       30.0\n",
      "신장      130.0\n",
      "허리둘레     49.0\n",
      "dtype: float64\n",
      "스케일 조정 전 특성별 최댓값:\n",
      " 체중      140.0\n",
      "신장      190.0\n",
      "허리둘레    999.0\n",
      "dtype: float64\n",
      "스케일 조정 후 특성별 최솟값:\n",
      " [-2.65095915 -3.46445169 -2.48714559]\n",
      "스케일 조정 후 특성별 최댓값:\n",
      " [ 6.13178648  2.98360622 70.8868839 ]\n"
     ]
    }
   ],
   "source": [
    "print(\"변환된 후 크기: {}\".format(X_train_scaled.shape))\n",
    "print(\"스케일 조정 전 특성별 최솟값:\\n {}\".format(X_train.min(axis=0)))\n",
    "print(\"스케일 조정 전 특성별 최댓값:\\n {}\".format(X_train.max(axis=0)))\n",
    "print(\"스케일 조정 후 특성별 최솟값:\\n {}\".format(X_train_scaled.min(axis=0)))\n",
    "print(\"스케일 조정 후 특성별 최댓값:\\n {}\".format(X_train_scaled.max(axis=0)))"
   ]
  },
  {
   "cell_type": "code",
   "execution_count": 13,
   "metadata": {},
   "outputs": [],
   "source": [
    "# 테스트 세트에서는 fit_transform을 사용하면 안된다. \n",
    "# 기존의 훈련세트에서 학습한 내용이 사라진다"
   ]
  },
  {
   "cell_type": "code",
   "execution_count": 14,
   "metadata": {},
   "outputs": [
    {
     "name": "stderr",
     "output_type": "stream",
     "text": [
      "c:\\users\\jeongjh\\appdata\\local\\programs\\python\\python36-32\\lib\\site-packages\\sklearn\\utils\\validation.py:72: DataConversionWarning: A column-vector y was passed when a 1d array was expected. Please change the shape of y to (n_samples, ), for example using ravel().\n",
      "  return f(**kwargs)\n"
     ]
    },
    {
     "name": "stdout",
     "output_type": "stream",
     "text": [
      "테스트 세트 정확도: 0.88\n"
     ]
    }
   ],
   "source": [
    "# SVS 모델 준비. SVS를 학습시킬때 MinMaxScaler의 효과를 확인해보자\n",
    "from sklearn.svm import SVC\n",
    "\n",
    "X = df[['체중', '신장', '허리둘레']]\n",
    "Y = df[['성별']]\n",
    "X_train, X_test, Y_train, Y_test = train_test_split(X, Y, random_state=0)\n",
    "\n",
    "svm = SVC(C=100) # C가 클수록 허용정도가 작아지기 때문에 경계가 정교해진다\n",
    "svm.fit(X_train, Y_train) # 스케일 조정\n",
    "print(\"테스트 세트 정확도: {:.2f}\".format(svm.score(X_test, Y_test)))"
   ]
  },
  {
   "cell_type": "code",
   "execution_count": 15,
   "metadata": {},
   "outputs": [
    {
     "name": "stderr",
     "output_type": "stream",
     "text": [
      "c:\\users\\jeongjh\\appdata\\local\\programs\\python\\python36-32\\lib\\site-packages\\sklearn\\utils\\validation.py:72: DataConversionWarning: A column-vector y was passed when a 1d array was expected. Please change the shape of y to (n_samples, ), for example using ravel().\n",
      "  return f(**kwargs)\n"
     ]
    },
    {
     "name": "stdout",
     "output_type": "stream",
     "text": [
      "스케일 조정된 테스트 세트의 정확도: 0.88\n"
     ]
    }
   ],
   "source": [
    "# SVC 모델을 학습시키기 전에 MinMaxScaler로 스케일 조정\n",
    "# 0~1 사이로 스케일 조정\n",
    "scaler = MinMaxScaler()\n",
    "scaler.fit(X_train) # 스케일 조정\n",
    "X_train_scaled = scaler.transform(X_train)\n",
    "X_test_scaled = scaler.transform(X_test)\n",
    "\n",
    "# 조정된 데이터로 SVM 학습\n",
    "svm.fit(X_train_scaled, Y_train)\n",
    "\n",
    "#스케일 조정된 테스트 세트의 정확도\n",
    "print(\"스케일 조정된 테스트 세트의 정확도: {:.2f}\"\n",
    "      .format(svm.score(X_test_scaled, Y_test)))"
   ]
  },
  {
   "cell_type": "code",
   "execution_count": 16,
   "metadata": {},
   "outputs": [
    {
     "name": "stderr",
     "output_type": "stream",
     "text": [
      "c:\\users\\jeongjh\\appdata\\local\\programs\\python\\python36-32\\lib\\site-packages\\sklearn\\utils\\validation.py:72: DataConversionWarning: A column-vector y was passed when a 1d array was expected. Please change the shape of y to (n_samples, ), for example using ravel().\n",
      "  return f(**kwargs)\n"
     ]
    },
    {
     "name": "stdout",
     "output_type": "stream",
     "text": [
      "스케일 조정된 테스트 세트의 정확도: 0.88\n"
     ]
    }
   ],
   "source": [
    "# 평균 0, 분산 1을 갖도록 스케일 조정\n",
    "from sklearn.preprocessing import StandardScaler\n",
    "\n",
    "scaler = StandardScaler()\n",
    "scaler.fit(X_train)  # 스케일 조정\n",
    "X_train_scaled = scaler.transform(X_train)\n",
    "X_test_scaled = scaler.transform(X_test)\n",
    "\n",
    "# 조정된 데이터로 SVM 학습\n",
    "svm.fit(X_train_scaled, Y_train)\n",
    "\n",
    "#스케일 조정된 테스트 세트의 정확도\n",
    "print(\"스케일 조정된 테스트 세트의 정확도: {:.2f}\"\n",
    "      .format(svm.score(X_test_scaled, Y_test)))"
   ]
  }
 ],
 "metadata": {
  "kernelspec": {
   "display_name": "Python 3",
   "language": "python",
   "name": "python3"
  },
  "language_info": {
   "codemirror_mode": {
    "name": "ipython",
    "version": 3
   },
   "file_extension": ".py",
   "mimetype": "text/x-python",
   "name": "python",
   "nbconvert_exporter": "python",
   "pygments_lexer": "ipython3",
   "version": "3.6.7"
  }
 },
 "nbformat": 4,
 "nbformat_minor": 4
}
